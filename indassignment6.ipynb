{
  "nbformat": 4,
  "nbformat_minor": 0,
  "metadata": {
    "colab": {
      "provenance": [],
      "authorship_tag": "ABX9TyM9fMbl7yf7zrT2GhVa8fbd",
      "include_colab_link": true
    },
    "kernelspec": {
      "name": "python3",
      "display_name": "Python 3"
    },
    "language_info": {
      "name": "python"
    }
  },
  "cells": [
    {
      "cell_type": "markdown",
      "metadata": {
        "id": "view-in-github",
        "colab_type": "text"
      },
      "source": [
        "<a href=\"https://colab.research.google.com/github/racheljhuh/HMI/blob/main/indassignment6.ipynb\" target=\"_parent\"><img src=\"https://colab.research.google.com/assets/colab-badge.svg\" alt=\"Open In Colab\"/></a>"
      ]
    },
    {
      "cell_type": "code",
      "execution_count": null,
      "metadata": {
        "id": "7cZXjxE692e8"
      },
      "outputs": [],
      "source": [
        "! git clone https://www.github.com/racheljhuh/HMI\n",
        "adf = pd.read_csv('./assignment2/data/airbnb_hw.csv',low_memory=False) #asked chat gpt for encoding\n"
      ]
    }
  ]
}